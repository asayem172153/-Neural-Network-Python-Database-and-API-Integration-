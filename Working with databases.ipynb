{
 "cells": [
  {
   "cell_type": "markdown",
   "id": "510226b4-e9bf-4a7e-9a75-81e56dd2a926",
   "metadata": {},
   "source": [
    "### Importing necessary Libraries"
   ]
  },
  {
   "cell_type": "code",
   "execution_count": 75,
   "id": "13b72d23-7d05-4d5e-83c9-8b300c9df142",
   "metadata": {},
   "outputs": [],
   "source": [
    "import sqlite3 as sql"
   ]
  },
  {
   "cell_type": "markdown",
   "id": "29dd4377-249f-4529-b82c-5aa11c0b2a9b",
   "metadata": {},
   "source": [
    "### Connect the dataset"
   ]
  },
  {
   "cell_type": "code",
   "execution_count": 76,
   "id": "baadbee4-28b0-4158-a067-bc502ba28097",
   "metadata": {},
   "outputs": [],
   "source": [
    "conn = sql.connect('machine_learning.db') # it will connect ml.db or create if not exist and connect\n",
    "cursor = conn.cursor()"
   ]
  },
  {
   "cell_type": "markdown",
   "id": "966f1fe9-7ac6-46c4-b37c-2534700589c3",
   "metadata": {},
   "source": [
    "### Create a Table in the database"
   ]
  },
  {
   "cell_type": "code",
   "execution_count": 77,
   "id": "f43c8c7c-73af-49fd-92a3-b93f1b7d1f91",
   "metadata": {},
   "outputs": [],
   "source": [
    "\n",
    "# function to create table \n",
    "def create_table():\n",
    "    cursor.execute('''\n",
    "        create table if not exists MLmodel (\n",
    "        id INTEGER PRIMARY KEY,\n",
    "        type text not null,\n",
    "        model_name text not null,\n",
    "        model_type text not null\n",
    "        )\n",
    "    ''')\n",
    "    conn.commit()\n",
    "    "
   ]
  },
  {
   "cell_type": "markdown",
   "id": "b6b1f6c6-6bf5-4b45-bd0a-4550f8ae74f1",
   "metadata": {},
   "source": [
    "### Check the table is created or NOT"
   ]
  },
  {
   "cell_type": "code",
   "execution_count": 78,
   "id": "5fa91ecb-344d-4e64-9f80-deac4c983bd2",
   "metadata": {},
   "outputs": [],
   "source": [
    "create_table()"
   ]
  },
  {
   "cell_type": "code",
   "execution_count": 79,
   "id": "8f9e5136-a62a-4d32-86c3-0e3d2fd08851",
   "metadata": {},
   "outputs": [
    {
     "name": "stdout",
     "output_type": "stream",
     "text": [
      "The 'MLmodel' table exists \n"
     ]
    }
   ],
   "source": [
    "\n",
    "cursor.execute(\"SELECT name FROM sqlite_master WHERE type='table' AND name='MLmodel'\")\n",
    "table_exists = cursor.fetchone() is not None\n",
    "\n",
    "if table_exists:\n",
    "    print(\"The 'MLmodel' table exists \")\n",
    "else:\n",
    "    print(\"The 'MLmodel' table does not exist \")\n",
    "    "
   ]
  },
  {
   "cell_type": "markdown",
   "id": "bf300b8b-eb00-493b-9467-fc99c31e2e64",
   "metadata": {},
   "source": [
    "### Function for ADDING"
   ]
  },
  {
   "cell_type": "code",
   "execution_count": 80,
   "id": "bcd09b3c-93f8-4294-8090-a6e83ba9e803",
   "metadata": {},
   "outputs": [],
   "source": [
    "\n",
    "def add_model(type,model_name,model_type):\n",
    "    cursor.execute('insert into MLmodel (type,model_name,model_type) values (?,?,?)', (type, model_name, model_type))\n",
    "    conn.commit()\n",
    "    "
   ]
  },
  {
   "cell_type": "markdown",
   "id": "48c64a25-1ae0-476c-8558-86d4f4a6badf",
   "metadata": {},
   "source": [
    "### Function for RETRIEVING"
   ]
  },
  {
   "cell_type": "code",
   "execution_count": 81,
   "id": "8f09b30a-20a3-49b8-8bc0-35b28b9b9b82",
   "metadata": {},
   "outputs": [],
   "source": [
    "\n",
    "def display_all_models():\n",
    "    cursor.execute('SELECT id, type, model_name, model_type FROM MLmodel')\n",
    "    return cursor.fetchall()\n",
    "    \n"
   ]
  },
  {
   "cell_type": "markdown",
   "id": "b0f9c68d-7e25-4aae-985e-5d65537063f4",
   "metadata": {},
   "source": [
    "### Function for UPDATING"
   ]
  },
  {
   "cell_type": "code",
   "execution_count": 82,
   "id": "75312828-fa89-4715-81c4-d8308ec8fe29",
   "metadata": {},
   "outputs": [],
   "source": [
    "\n",
    "def update_model(id,type,model_name,model_type):\n",
    "    cursor.execute('update MLmodel SET type=?, model_name=?, model_type=? WHERE id = ? ',(type,model_name,model_type,id))\n",
    "    conn.commit()\n",
    "    "
   ]
  },
  {
   "cell_type": "markdown",
   "id": "90fc17fc-266d-4de2-9332-8f8b6bc03453",
   "metadata": {},
   "source": [
    "### Function for DELTEING"
   ]
  },
  {
   "cell_type": "code",
   "execution_count": 83,
   "id": "38ebaddb-ddbc-4598-95ec-299ea8edf93e",
   "metadata": {},
   "outputs": [],
   "source": [
    "\n",
    "def delete_model(id):\n",
    "    cursor.execute('DELETE from MLmodel WHERE id=?',(id,))\n",
    "    conn.commit()\n",
    "    "
   ]
  },
  {
   "cell_type": "markdown",
   "id": "e4e1c9d2-1d1f-4398-bfe6-46da5ecb2395",
   "metadata": {},
   "source": [
    "### Function for SEARCH"
   ]
  },
  {
   "cell_type": "code",
   "execution_count": 84,
   "id": "32ca27ce-a317-4d73-8eb1-549936b615f9",
   "metadata": {},
   "outputs": [],
   "source": [
    "\n",
    "def search_model(model_name):\n",
    "    cursor.execute('SELECT * FROM MLmodel WHERE model_name=?',(model_name,))\n",
    "    return cursor.fetchall()\n",
    "    "
   ]
  },
  {
   "cell_type": "code",
   "execution_count": null,
   "id": "7d5ae8e9-815c-4575-b450-0a265caa0600",
   "metadata": {},
   "outputs": [],
   "source": []
  },
  {
   "cell_type": "markdown",
   "id": "bcbfc41d-4ba4-4153-99b0-f60f8f0217e7",
   "metadata": {},
   "source": [
    "### ADDING some values to the database"
   ]
  },
  {
   "cell_type": "code",
   "execution_count": 85,
   "id": "4800028b-dbc2-4083-a07f-5a446f62a257",
   "metadata": {},
   "outputs": [],
   "source": [
    "\n",
    "add_model('Supervised','Decison Tree','Classification')\n",
    "add_model('Unsupervised','KMeans','Classification')\n",
    "add_model('Supervised','Linear Regression','Classification')\n",
    "add_model('Supervised','Logistic Regression','Classification')\n"
   ]
  },
  {
   "cell_type": "markdown",
   "id": "0308464f-7ceb-4ca5-aa23-091e25e0411f",
   "metadata": {},
   "source": [
    "### Display after ADDING"
   ]
  },
  {
   "cell_type": "code",
   "execution_count": 86,
   "id": "d35ba1f9-8649-4ddd-8713-feb4ef5c26cf",
   "metadata": {},
   "outputs": [
    {
     "data": {
      "text/plain": [
       "[(1, 'Supervised', 'Decison Tree', 'Classification'),\n",
       " (2, 'Unsupervised', 'KMeans', 'Classification'),\n",
       " (3, 'Supervised', 'Linear Regression', 'Classification'),\n",
       " (4, 'Supervised', 'Logistic Regression', 'Classification')]"
      ]
     },
     "execution_count": 86,
     "metadata": {},
     "output_type": "execute_result"
    }
   ],
   "source": [
    "\n",
    "display_all_models()\n"
   ]
  },
  {
   "cell_type": "markdown",
   "id": "ea4f8568-244d-4ac6-b99d-5cf9f7e7143b",
   "metadata": {},
   "source": [
    "### Update model "
   ]
  },
  {
   "cell_type": "code",
   "execution_count": 87,
   "id": "9b85b893-fd20-4742-bdf2-4bbed3d2c504",
   "metadata": {},
   "outputs": [],
   "source": [
    "\n",
    "update_model(3,'Supervised', 'Linear Regression', 'Regression')\n"
   ]
  },
  {
   "cell_type": "markdown",
   "id": "726bf68a-0034-4013-a2d4-c79055ab76ef",
   "metadata": {},
   "source": [
    "### Display After UPDATE"
   ]
  },
  {
   "cell_type": "code",
   "execution_count": 88,
   "id": "6ff35beb-bdcd-4972-b47a-ecf62ada67f9",
   "metadata": {},
   "outputs": [
    {
     "data": {
      "text/plain": [
       "[(1, 'Supervised', 'Decison Tree', 'Classification'),\n",
       " (2, 'Unsupervised', 'KMeans', 'Classification'),\n",
       " (3, 'Supervised', 'Linear Regression', 'Regression'),\n",
       " (4, 'Supervised', 'Logistic Regression', 'Classification')]"
      ]
     },
     "execution_count": 88,
     "metadata": {},
     "output_type": "execute_result"
    }
   ],
   "source": [
    "\n",
    "display_all_models()\n"
   ]
  },
  {
   "cell_type": "markdown",
   "id": "44ab3849-eeab-45af-8964-65f5808a34e1",
   "metadata": {},
   "source": [
    "### SEARCH a model by model_name"
   ]
  },
  {
   "cell_type": "code",
   "execution_count": 89,
   "id": "7c07fdae-73a3-4306-8392-b339a12e5599",
   "metadata": {},
   "outputs": [
    {
     "data": {
      "text/plain": [
       "[(1, 'Supervised', 'Decison Tree', 'Classification')]"
      ]
     },
     "execution_count": 89,
     "metadata": {},
     "output_type": "execute_result"
    }
   ],
   "source": [
    "\n",
    "search_model('Decison Tree')\n"
   ]
  },
  {
   "cell_type": "markdown",
   "id": "1103b59e-5a1a-4b00-8e64-84f97bac611f",
   "metadata": {},
   "source": [
    "### Delete a model"
   ]
  },
  {
   "cell_type": "code",
   "execution_count": 51,
   "id": "e3e0af54-5e81-4640-a0c3-141d4f278305",
   "metadata": {},
   "outputs": [],
   "source": [
    "\n",
    "delete_model(4)\n"
   ]
  },
  {
   "cell_type": "markdown",
   "id": "4faa06f1-de23-4921-9c97-f7be09781775",
   "metadata": {},
   "source": [
    "### Display After DELETE"
   ]
  },
  {
   "cell_type": "code",
   "execution_count": 52,
   "id": "3127aa2d-97c5-4f40-90d3-4a9e057b3140",
   "metadata": {},
   "outputs": [
    {
     "data": {
      "text/plain": [
       "[(1, 'Supervised', 'Decison Tree', 'Classification'),\n",
       " (2, 'Unsupervised', 'KMeans', 'Classification'),\n",
       " (3, 'Supervised', 'Linear Regression', 'Regression')]"
      ]
     },
     "execution_count": 52,
     "metadata": {},
     "output_type": "execute_result"
    }
   ],
   "source": [
    "\n",
    "display_all_models()\n"
   ]
  },
  {
   "cell_type": "markdown",
   "id": "8ed3a94e-2c71-4ebd-9c26-f8e2c4a276b9",
   "metadata": {},
   "source": [
    "### Closing the connection at the end"
   ]
  },
  {
   "cell_type": "code",
   "execution_count": 90,
   "id": "e9235a7e-a4d2-41ab-871f-de766e620d35",
   "metadata": {},
   "outputs": [],
   "source": [
    "\n",
    "conn.close()\n"
   ]
  },
  {
   "cell_type": "markdown",
   "id": "e054b4ef-9e06-4150-8bbe-4aff06adea40",
   "metadata": {},
   "source": [
    "# Description how I organized my database and why I chose that particular structure"
   ]
  },
  {
   "cell_type": "markdown",
   "id": "ad9b1221-a387-4dc6-8db8-aea7a3de4cc5",
   "metadata": {},
   "source": [
    "The task here is to working with database using python and the condition is the script must be capable of doing **ADD, UPDATE, RETRIEVE, DELETE**.  \n",
    "\n",
    "Firstly, I imported **sqlite3** database for my work.  \n",
    "        Why **sqlite3**? \n",
    "                  \n",
    "                    - Because it is very popular and light-weight database.    \n",
    "                             \n",
    "                    - It is a built-in module in python.    \n",
    "                             \n",
    "                    - Easy to use.  \n",
    "                             \n",
    "                    - Zero configuration etc. \n",
    "                             \n",
    "As we can see the task I have performed here are very simple and basic operation. So considering these facilities I chose that dataset.  \n",
    "\n",
    "After importing our first work is to create a database (if not created previously) and connect it. I have created a dataset and connect it. I also created a cursor from connection because we need **Cursor** to do operation like fetch, execute the sql command etc.  \n",
    "\n",
    "To do the operation mentioned into the task we need a tabel and some data to perform the operations. My first target was to create a table. So, I have created a table called **MLmodel** with some text type varibale **(like- type, model_name, model_type) and set ID (integer)** as Primary key.  \n",
    "\n",
    "Now into the next sell I checked whether the table created or not.  \n",
    "\n",
    "After checking I just simply write some function as per the requirement. I have created-\n",
    "\n",
    "                    - **add_model(model data)** to add new model into the MLmodel table. \n",
    "                                \n",
    "                    - **update_model(model data)** to update data from MLmodel table.\n",
    "                                \n",
    "                    - **display_all_model()** for RETRIEVING data from MLmodel and display.\n",
    "\n",
    "                    - **delete_model(id)** to delete perticular entry from MLmodel by ID.\n",
    "\n",
    "                    - **search_model(model_name)** to search something from MLmodel table by model_name.  \n",
    "\n",
    "I execute all the function one by one and display.  \n",
    "For example-\n",
    "\n",
    "                    - add some entity, then display. \n",
    "                              \n",
    "                    - update a entity, then display.\n",
    "                              \n",
    "                    - search a entity by it's name.\n",
    "                              \n",
    "                    - delete a entity by it's id, then display.\n",
    "    \n",
    "At the end I close the connection with the database.\n",
    "            "
   ]
  }
 ],
 "metadata": {
  "kernelspec": {
   "display_name": "Python 3 (ipykernel)",
   "language": "python",
   "name": "python3"
  },
  "language_info": {
   "codemirror_mode": {
    "name": "ipython",
    "version": 3
   },
   "file_extension": ".py",
   "mimetype": "text/x-python",
   "name": "python",
   "nbconvert_exporter": "python",
   "pygments_lexer": "ipython3",
   "version": "3.11.4"
  },
  "widgets": {
   "application/vnd.jupyter.widget-state+json": {
    "state": {},
    "version_major": 2,
    "version_minor": 0
   }
  }
 },
 "nbformat": 4,
 "nbformat_minor": 5
}
