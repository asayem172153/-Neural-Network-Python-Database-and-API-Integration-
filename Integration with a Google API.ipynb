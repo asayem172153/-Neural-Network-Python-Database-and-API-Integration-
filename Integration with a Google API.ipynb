{
 "cells": [
  {
   "cell_type": "markdown",
   "id": "2aa4a5b0-0a51-4e11-9bc8-d18e5c331b6a",
   "metadata": {},
   "source": [
    "### Importing Necessary Libraries"
   ]
  },
  {
   "cell_type": "code",
   "execution_count": 28,
   "id": "f4c14a8a-9fe9-4951-bab6-3962b69505dc",
   "metadata": {},
   "outputs": [],
   "source": [
    "import requests\n",
    "from oauth2client.service_account import ServiceAccountCredentials"
   ]
  },
  {
   "cell_type": "markdown",
   "id": "485a8445-c816-4895-878c-6cf0c6d044f0",
   "metadata": {},
   "source": [
    "### Defining the Functions"
   ]
  },
  {
   "cell_type": "code",
   "execution_count": 29,
   "id": "ce7637d1-65ca-45fb-be58-70df13eddda8",
   "metadata": {},
   "outputs": [],
   "source": [
    "\n",
    "def get_google_sheets_data(api_key, spreadsheet_id, range):\n",
    "    base_url = f'https://sheets.googleapis.com/v4/spreadsheets/{spreadsheet_id}/values/{range}'\n",
    "\n",
    "    # Set up parameters for the API request\n",
    "    params = {\n",
    "        'key': api_key,\n",
    "    }\n",
    "\n",
    "    # Make the API request\n",
    "    response = requests.get(base_url, params=params)\n",
    "    result = response.json()\n",
    "\n",
    "    # Process the received data\n",
    "    if 'values' in result:\n",
    "        values = result['values']\n",
    "        for row in values:\n",
    "            print(row)\n",
    "    else:\n",
    "        print(\"No data found.\")\n"
   ]
  },
  {
   "cell_type": "markdown",
   "id": "0c773395-4086-4e4f-966a-7ae9e7fab807",
   "metadata": {},
   "source": [
    "### Defining the main block"
   ]
  },
  {
   "cell_type": "code",
   "execution_count": 31,
   "id": "984f1939-f096-486e-8c63-7856070a3067",
   "metadata": {},
   "outputs": [
    {
     "name": "stdout",
     "output_type": "stream",
     "text": [
      "['Linear Regression', 'Predictive analysis']\n",
      "['Logistic Regression', 'Binary classification']\n",
      "['Decision Tree', 'Classification and Regression']\n",
      "['Random Forest', 'Ensemble learning']\n",
      "['Naive Bayes', 'Text classification']\n",
      "['K-Means', 'Clustering']\n",
      "['PCA', 'Dimensionality reduction']\n",
      "['Neural Networks', 'Deep Learning']\n",
      "['KNN', 'Classification and Regression']\n",
      "['SVM', 'Classification and Regression']\n"
     ]
    }
   ],
   "source": [
    "if __name__ == \"__main__\":\n",
    "    \n",
    "    api_key = ''\n", 
    "\n",
    "    \n",
    "    spreadsheet_id = '1L0XHrvoL9sfgaMqtGncECGblQoiZ33THpxJTaE_BWFg'\n",
    "\n",
    "    range = 'Sheet1!A1:B10'\n",
    "\n",
    "    # Calling the function to display data from sheet within the given range\n",
    "    get_google_sheets_data(api_key, spreadsheet_id, range_name)"
   ]
  },
  {
   "cell_type": "markdown",
   "id": "e1044362-f3c7-4970-a22d-d96aff6b4d91",
   "metadata": {},
   "source": [
    "# Explaining code and what data processing approaches I chose"
   ]
  },
  {
   "cell_type": "markdown",
   "id": "eeb4c40d-06b2-408a-95d1-434a980a29e5",
   "metadata": {},
   "source": [
    "To make a Python script that uses the Google API to get information, and the script must be capable of sending requests to the API and processing the received data, firstly I imported the necessary libraries, such as **requests** and others for my work.\n",
    "\n",
    "Before building the functions, I went to Google Cloud and created a project. Then I went to the library to configure the **GOOGLE SHEET API**. From Credential I have created an **API KEY**.\n",
    "\n",
    "I also created a new Google Sheet called **NewDataSheet** and inserted some data manually. I have shared the sheet with my **API and Service Accounts email** with the editor authorized and made the **NewDataSheet** view only for public. Lastly, from the URL, separate the sheet ID and store.\n",
    "\n",
    "After doing these pre-processing, I have defined the function which will send requests and process received data. The parameters of the function **get_google_sheets_data** are api key, spreadsheet id and range. I make an API request and store the response.\n",
    "Then process the received data and make a condition to check if the data exists or not.\n",
    "\n",
    "Lastly, define the main block, set **API key , Spread Sheet ID, Range** and check the result by calling the function I built earlier.\n",
    "It responds perfectly and displays the data within the given range."
   ]
  }
 ],
 "metadata": {
  "kernelspec": {
   "display_name": "Python 3 (ipykernel)",
   "language": "python",
   "name": "python3"
  },
  "language_info": {
   "codemirror_mode": {
    "name": "ipython",
    "version": 3
   },
   "file_extension": ".py",
   "mimetype": "text/x-python",
   "name": "python",
   "nbconvert_exporter": "python",
   "pygments_lexer": "ipython3",
   "version": "3.11.4"
  },
  "widgets": {
   "application/vnd.jupyter.widget-state+json": {
    "state": {},
    "version_major": 2,
    "version_minor": 0
   }
  }
 },
 "nbformat": 4,
 "nbformat_minor": 5
}
